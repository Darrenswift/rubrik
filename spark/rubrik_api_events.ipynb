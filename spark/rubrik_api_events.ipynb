{
 "cells": [
  {
   "cell_type": "code",
   "execution_count": 1,
   "metadata": {},
   "outputs": [],
   "source": [
    "from pyspark.sql import SparkSession\n",
    "import pyspark.sql.functions as psf\n",
    "from pyspark.sql.functions import col, split, lit, when\n",
    "from pyspark.sql.types import *"
   ]
  },
  {
   "cell_type": "code",
   "execution_count": 2,
   "metadata": {},
   "outputs": [],
   "source": [
    "spark = SparkSession.builder.appName('events').getOrCreate()"
   ]
  },
  {
   "cell_type": "code",
   "execution_count": 3,
   "metadata": {},
   "outputs": [
    {
     "data": {
      "application/javascript": [
       "\n",
       "    require(['notebook/js/codecell'], function(codecell) {\n",
       "      // https://github.com/jupyter/notebook/issues/2453\n",
       "      codecell.CodeCell.options_default.highlight_modes['magic_text/x-sql'] = {'reg':[/^%read_sql/, /.*=\\s*%read_sql/,\n",
       "                                                                                      /^%%read_sql/]};\n",
       "      Jupyter.notebook.events.one('kernel_ready.Kernel', function(){\n",
       "          console.log('BBBBB');\n",
       "          Jupyter.notebook.get_cells().map(function(cell){\n",
       "              if (cell.cell_type == 'code'){ cell.auto_highlight(); } }) ;\n",
       "      });\n",
       "    });\n",
       "    "
      ]
     },
     "metadata": {},
     "output_type": "display_data"
    }
   ],
   "source": [
    "%matplotlib inline\n",
    "import matplotlib.pyplot as plt\n",
    "plt.rcParams[\"figure.dpi\"] = 144\n",
    "import pandas as pd\n",
    "%load_ext sql_magic\n",
    "%config SQL.conn_name = 'spark'"
   ]
  },
  {
   "cell_type": "code",
   "execution_count": 4,
   "metadata": {},
   "outputs": [],
   "source": [
    "df = spark.read.json('data/events/', multiLine=True)"
   ]
  },
  {
   "cell_type": "markdown",
   "metadata": {},
   "source": [
    "Sample data:\n",
    "{\n",
    "  \"hasMore\": true,\n",
    "  \"data\": [\n",
    "    {\n",
    "      \"taskType\": \"Archive\",\n",
    "      \"objectInfo\": {\n",
    "        \"objectId\": \"string\",\n",
    "        \"objectName\": \"string\",\n",
    "        \"objectType\": \"string\"\n",
    "      },\n",
    "      \"location\": \"string\",\n",
    "      \"username\": \"string\",\n",
    "      \"eventSeriesId\": \"string\",\n",
    "      \"eventId\": \"string\",\n",
    "      \"jobInstanceId\": \"string\",\n",
    "      \"status\": \"string\",\n",
    "      \"slaInfo\": {\n",
    "        \"slaId\": \"string\",\n",
    "        \"slaName\": \"string\",\n",
    "        \"isOnDemand\": true\n",
    "      },\n",
    "      \"startTime\": \"2019-08-06T22:57:08.849Z\",\n",
    "      \"endTime\": \"2019-08-06T22:57:08.849Z\",\n",
    "      \"duration\": \"string\",\n",
    "      \"archiveTargetName\": \"string\",\n",
    "      \"replicationSourceCluterName\": \"string\",\n",
    "      \"replicationTargetLocationName\": \"string\",\n",
    "      \"objectLogicalSize\": 0,\n",
    "      \"logicalSize\": 0,\n",
    "      \"dataTransferred\": 0,\n",
    "      \"effectiveThroughput\": 0,\n",
    "      \"hasJob\": true,\n",
    "      \"dataToTransfer\": 0,\n",
    "      \"numberOfRetries\": 0,\n",
    "      \"estimatedTimeRemaining\": \"2019-08-06T22:57:08.849Z\",\n",
    "      \"nextJobStartTime\": \"2019-08-06T22:57:08.849Z\",\n",
    "      \"previousSuccessfulJobTime\": \"2019-08-06T22:57:08.849Z\",\n",
    "      \"nodeIds\": [\n",
    "        \"string\"\n",
    "      ],\n",
    "      \"isFirstFullSnapshot\": true,\n",
    "      \"eventDate\": \"2019-08-06T22:57:08.849Z\"\n",
    "    }\n",
    "  ],\n",
    "  \"total\": 0\n",
    "}"
   ]
  },
  {
   "cell_type": "code",
   "execution_count": 5,
   "metadata": {},
   "outputs": [
    {
     "name": "stdout",
     "output_type": "stream",
     "text": [
      "+--------------------+-------+\n",
      "|                data|hasMore|\n",
      "+--------------------+-------+\n",
      "|[[,, 90624, 21 se...|   true|\n",
      "+--------------------+-------+\n",
      "\n"
     ]
    }
   ],
   "source": [
    "df.show()"
   ]
  },
  {
   "cell_type": "code",
   "execution_count": 6,
   "metadata": {},
   "outputs": [
    {
     "data": {
      "text/plain": [
       "[Row(col=Row(archiveTargetName=None, dataToTransfer=None, dataTransferred=90624, duration='21 secs', effectiveThroughput=18117, endTime='2019-08-01T21:41:06.108Z', eventDate='2019-08-01T21:41:06.177Z', eventId='2019-08-01:21:4:::1564695666177-5fe9ad59-55d7-4f32-90f1-ee1adb942deb', eventSeriesId='67624a11-32f2-4be1-adb4-3170132dfd46', hasJob=True, isFirstFullSnapshot=False, jobInstanceId='MSSQL_LOG_REPLICATE_ba43af26-793d-48f5-8900-82aaab84a828:::2832', location='em2-salvbucc-w1\\\\MSSQLSERVER', logicalSize=90624, nextJobStartTime=None, nodeIds=['cluster:::RVM183S035507'], numberOfRetries=0, objectInfo=Row(objectId='MssqlDatabase:::764ae75f-408a-45ef-8b90-bc27c75ed9cf', objectName='AdventureWorks2014', objectType='Mssql'), objectLogicalSize=234094592, previousSuccessfulJobTime=None, replicationSourceCluterName='emea2-rbk01', replicationTargetLocationName='LOCAL', slaInfo=Row(isOnDemand=None, slaId='5226f655-e1c1-4ba7-94fb-95e2bdbb1dd3', slaName='4hr-30d-Azure'), startTime='2019-08-01T21:40:44.480Z', status='Success', taskType='Replication', username=None))]"
      ]
     },
     "execution_count": 6,
     "metadata": {},
     "output_type": "execute_result"
    }
   ],
   "source": [
    "explodedDF = df.select(psf.explode(df.data))\n",
    "explodedDF.take(1)"
   ]
  },
  {
   "cell_type": "code",
   "execution_count": 13,
   "metadata": {},
   "outputs": [],
   "source": [
    "objectDF = explodedDF.select(explodedDF[\"col\"].getItem('status').alias('status'),\n",
    "                             explodedDF[\"col\"].getItem('location').alias('location'),\n",
    "                             explodedDF[\"col\"].getItem('taskType').alias('taskType'),\n",
    "                             explodedDF[\"col\"].getItem('duration').alias('duration'),\n",
    "                             explodedDF[\"col\"].getItem('eventDate').alias('eventDate'),\n",
    "                             explodedDF[\"col\"].getItem('effectiveThroughput').alias('effectiveThroughput'),\n",
    "                             explodedDF[\"col\"].getItem('dataTransferred').alias('dataTransferred'),\n",
    "                             explodedDF[\"col\"].getItem('objectInfo').getItem('objectName').alias('objectName'),\n",
    "                             explodedDF[\"col\"].getItem('objectInfo').getItem('objectType').alias('objectType'))\n"
   ]
  },
  {
   "cell_type": "code",
   "execution_count": 14,
   "metadata": {},
   "outputs": [],
   "source": [
    "objectDF.registerTempTable(\"table\")"
   ]
  },
  {
   "cell_type": "code",
   "execution_count": 15,
   "metadata": {},
   "outputs": [
    {
     "ename": "IllegalArgumentException",
     "evalue": "'Unsupported class file major version 56'",
     "output_type": "error",
     "traceback": [
      "\u001b[0;31m---------------------------------------------------------------------------\u001b[0m",
      "\u001b[0;31mPy4JJavaError\u001b[0m                             Traceback (most recent call last)",
      "\u001b[0;32m~/.pyenv/versions/3.6.8/lib/python3.6/site-packages/pyspark/sql/utils.py\u001b[0m in \u001b[0;36mdeco\u001b[0;34m(*a, **kw)\u001b[0m\n\u001b[1;32m     62\u001b[0m         \u001b[0;32mtry\u001b[0m\u001b[0;34m:\u001b[0m\u001b[0;34m\u001b[0m\u001b[0;34m\u001b[0m\u001b[0m\n\u001b[0;32m---> 63\u001b[0;31m             \u001b[0;32mreturn\u001b[0m \u001b[0mf\u001b[0m\u001b[0;34m(\u001b[0m\u001b[0;34m*\u001b[0m\u001b[0ma\u001b[0m\u001b[0;34m,\u001b[0m \u001b[0;34m**\u001b[0m\u001b[0mkw\u001b[0m\u001b[0;34m)\u001b[0m\u001b[0;34m\u001b[0m\u001b[0;34m\u001b[0m\u001b[0m\n\u001b[0m\u001b[1;32m     64\u001b[0m         \u001b[0;32mexcept\u001b[0m \u001b[0mpy4j\u001b[0m\u001b[0;34m.\u001b[0m\u001b[0mprotocol\u001b[0m\u001b[0;34m.\u001b[0m\u001b[0mPy4JJavaError\u001b[0m \u001b[0;32mas\u001b[0m \u001b[0me\u001b[0m\u001b[0;34m:\u001b[0m\u001b[0;34m\u001b[0m\u001b[0;34m\u001b[0m\u001b[0m\n",
      "\u001b[0;32m~/.pyenv/versions/3.6.8/lib/python3.6/site-packages/py4j/protocol.py\u001b[0m in \u001b[0;36mget_return_value\u001b[0;34m(answer, gateway_client, target_id, name)\u001b[0m\n\u001b[1;32m    327\u001b[0m                     \u001b[0;34m\"An error occurred while calling {0}{1}{2}.\\n\"\u001b[0m\u001b[0;34m.\u001b[0m\u001b[0;34m\u001b[0m\u001b[0;34m\u001b[0m\u001b[0m\n\u001b[0;32m--> 328\u001b[0;31m                     format(target_id, \".\", name), value)\n\u001b[0m\u001b[1;32m    329\u001b[0m             \u001b[0;32melse\u001b[0m\u001b[0;34m:\u001b[0m\u001b[0;34m\u001b[0m\u001b[0;34m\u001b[0m\u001b[0m\n",
      "\u001b[0;31mPy4JJavaError\u001b[0m: An error occurred while calling o215.count.\n: java.lang.IllegalArgumentException: Unsupported class file major version 56\n\tat org.apache.xbean.asm6.ClassReader.<init>(ClassReader.java:166)\n\tat org.apache.xbean.asm6.ClassReader.<init>(ClassReader.java:148)\n\tat org.apache.xbean.asm6.ClassReader.<init>(ClassReader.java:136)\n\tat org.apache.xbean.asm6.ClassReader.<init>(ClassReader.java:237)\n\tat org.apache.spark.util.ClosureCleaner$.getClassReader(ClosureCleaner.scala:49)\n\tat org.apache.spark.util.FieldAccessFinder$$anon$3$$anonfun$visitMethodInsn$2.apply(ClosureCleaner.scala:517)\n\tat org.apache.spark.util.FieldAccessFinder$$anon$3$$anonfun$visitMethodInsn$2.apply(ClosureCleaner.scala:500)\n\tat scala.collection.TraversableLike$WithFilter$$anonfun$foreach$1.apply(TraversableLike.scala:733)\n\tat scala.collection.mutable.HashMap$$anon$1$$anonfun$foreach$2.apply(HashMap.scala:134)\n\tat scala.collection.mutable.HashMap$$anon$1$$anonfun$foreach$2.apply(HashMap.scala:134)\n\tat scala.collection.mutable.HashTable$class.foreachEntry(HashTable.scala:236)\n\tat scala.collection.mutable.HashMap.foreachEntry(HashMap.scala:40)\n\tat scala.collection.mutable.HashMap$$anon$1.foreach(HashMap.scala:134)\n\tat scala.collection.TraversableLike$WithFilter.foreach(TraversableLike.scala:732)\n\tat org.apache.spark.util.FieldAccessFinder$$anon$3.visitMethodInsn(ClosureCleaner.scala:500)\n\tat org.apache.xbean.asm6.ClassReader.readCode(ClassReader.java:2175)\n\tat org.apache.xbean.asm6.ClassReader.readMethod(ClassReader.java:1238)\n\tat org.apache.xbean.asm6.ClassReader.accept(ClassReader.java:631)\n\tat org.apache.xbean.asm6.ClassReader.accept(ClassReader.java:355)\n\tat org.apache.spark.util.ClosureCleaner$$anonfun$org$apache$spark$util$ClosureCleaner$$clean$14.apply(ClosureCleaner.scala:307)\n\tat org.apache.spark.util.ClosureCleaner$$anonfun$org$apache$spark$util$ClosureCleaner$$clean$14.apply(ClosureCleaner.scala:306)\n\tat scala.collection.immutable.List.foreach(List.scala:392)\n\tat org.apache.spark.util.ClosureCleaner$.org$apache$spark$util$ClosureCleaner$$clean(ClosureCleaner.scala:306)\n\tat org.apache.spark.util.ClosureCleaner$.clean(ClosureCleaner.scala:162)\n\tat org.apache.spark.SparkContext.clean(SparkContext.scala:2326)\n\tat org.apache.spark.SparkContext.runJob(SparkContext.scala:2100)\n\tat org.apache.spark.SparkContext.runJob(SparkContext.scala:2126)\n\tat org.apache.spark.rdd.RDD$$anonfun$collect$1.apply(RDD.scala:945)\n\tat org.apache.spark.rdd.RDDOperationScope$.withScope(RDDOperationScope.scala:151)\n\tat org.apache.spark.rdd.RDDOperationScope$.withScope(RDDOperationScope.scala:112)\n\tat org.apache.spark.rdd.RDD.withScope(RDD.scala:363)\n\tat org.apache.spark.rdd.RDD.collect(RDD.scala:944)\n\tat org.apache.spark.sql.execution.SparkPlan.executeCollect(SparkPlan.scala:299)\n\tat org.apache.spark.sql.Dataset$$anonfun$count$1.apply(Dataset.scala:2830)\n\tat org.apache.spark.sql.Dataset$$anonfun$count$1.apply(Dataset.scala:2829)\n\tat org.apache.spark.sql.Dataset$$anonfun$53.apply(Dataset.scala:3364)\n\tat org.apache.spark.sql.execution.SQLExecution$$anonfun$withNewExecutionId$1.apply(SQLExecution.scala:78)\n\tat org.apache.spark.sql.execution.SQLExecution$.withSQLConfPropagated(SQLExecution.scala:125)\n\tat org.apache.spark.sql.execution.SQLExecution$.withNewExecutionId(SQLExecution.scala:73)\n\tat org.apache.spark.sql.Dataset.withAction(Dataset.scala:3363)\n\tat org.apache.spark.sql.Dataset.count(Dataset.scala:2829)\n\tat java.base/jdk.internal.reflect.NativeMethodAccessorImpl.invoke0(Native Method)\n\tat java.base/jdk.internal.reflect.NativeMethodAccessorImpl.invoke(NativeMethodAccessorImpl.java:62)\n\tat java.base/jdk.internal.reflect.DelegatingMethodAccessorImpl.invoke(DelegatingMethodAccessorImpl.java:43)\n\tat java.base/java.lang.reflect.Method.invoke(Method.java:567)\n\tat py4j.reflection.MethodInvoker.invoke(MethodInvoker.java:244)\n\tat py4j.reflection.ReflectionEngine.invoke(ReflectionEngine.java:357)\n\tat py4j.Gateway.invoke(Gateway.java:282)\n\tat py4j.commands.AbstractCommand.invokeMethod(AbstractCommand.java:132)\n\tat py4j.commands.CallCommand.execute(CallCommand.java:79)\n\tat py4j.GatewayConnection.run(GatewayConnection.java:238)\n\tat java.base/java.lang.Thread.run(Thread.java:835)\n",
      "\nDuring handling of the above exception, another exception occurred:\n",
      "\u001b[0;31mIllegalArgumentException\u001b[0m                  Traceback (most recent call last)",
      "\u001b[0;32m<ipython-input-15-e3a4dfcb975c>\u001b[0m in \u001b[0;36m<module>\u001b[0;34m\u001b[0m\n\u001b[0;32m----> 1\u001b[0;31m \u001b[0mobjectDF\u001b[0m\u001b[0;34m.\u001b[0m\u001b[0mcount\u001b[0m\u001b[0;34m(\u001b[0m\u001b[0;34m)\u001b[0m\u001b[0;34m\u001b[0m\u001b[0;34m\u001b[0m\u001b[0m\n\u001b[0m",
      "\u001b[0;32m~/.pyenv/versions/3.6.8/lib/python3.6/site-packages/pyspark/sql/dataframe.py\u001b[0m in \u001b[0;36mcount\u001b[0;34m(self)\u001b[0m\n\u001b[1;32m    520\u001b[0m         \u001b[0;36m2\u001b[0m\u001b[0;34m\u001b[0m\u001b[0;34m\u001b[0m\u001b[0m\n\u001b[1;32m    521\u001b[0m         \"\"\"\n\u001b[0;32m--> 522\u001b[0;31m         \u001b[0;32mreturn\u001b[0m \u001b[0mint\u001b[0m\u001b[0;34m(\u001b[0m\u001b[0mself\u001b[0m\u001b[0;34m.\u001b[0m\u001b[0m_jdf\u001b[0m\u001b[0;34m.\u001b[0m\u001b[0mcount\u001b[0m\u001b[0;34m(\u001b[0m\u001b[0;34m)\u001b[0m\u001b[0;34m)\u001b[0m\u001b[0;34m\u001b[0m\u001b[0;34m\u001b[0m\u001b[0m\n\u001b[0m\u001b[1;32m    523\u001b[0m \u001b[0;34m\u001b[0m\u001b[0m\n\u001b[1;32m    524\u001b[0m     \u001b[0;34m@\u001b[0m\u001b[0mignore_unicode_prefix\u001b[0m\u001b[0;34m\u001b[0m\u001b[0;34m\u001b[0m\u001b[0m\n",
      "\u001b[0;32m~/.pyenv/versions/3.6.8/lib/python3.6/site-packages/py4j/java_gateway.py\u001b[0m in \u001b[0;36m__call__\u001b[0;34m(self, *args)\u001b[0m\n\u001b[1;32m   1255\u001b[0m         \u001b[0manswer\u001b[0m \u001b[0;34m=\u001b[0m \u001b[0mself\u001b[0m\u001b[0;34m.\u001b[0m\u001b[0mgateway_client\u001b[0m\u001b[0;34m.\u001b[0m\u001b[0msend_command\u001b[0m\u001b[0;34m(\u001b[0m\u001b[0mcommand\u001b[0m\u001b[0;34m)\u001b[0m\u001b[0;34m\u001b[0m\u001b[0;34m\u001b[0m\u001b[0m\n\u001b[1;32m   1256\u001b[0m         return_value = get_return_value(\n\u001b[0;32m-> 1257\u001b[0;31m             answer, self.gateway_client, self.target_id, self.name)\n\u001b[0m\u001b[1;32m   1258\u001b[0m \u001b[0;34m\u001b[0m\u001b[0m\n\u001b[1;32m   1259\u001b[0m         \u001b[0;32mfor\u001b[0m \u001b[0mtemp_arg\u001b[0m \u001b[0;32min\u001b[0m \u001b[0mtemp_args\u001b[0m\u001b[0;34m:\u001b[0m\u001b[0;34m\u001b[0m\u001b[0;34m\u001b[0m\u001b[0m\n",
      "\u001b[0;32m~/.pyenv/versions/3.6.8/lib/python3.6/site-packages/pyspark/sql/utils.py\u001b[0m in \u001b[0;36mdeco\u001b[0;34m(*a, **kw)\u001b[0m\n\u001b[1;32m     77\u001b[0m                 \u001b[0;32mraise\u001b[0m \u001b[0mQueryExecutionException\u001b[0m\u001b[0;34m(\u001b[0m\u001b[0ms\u001b[0m\u001b[0;34m.\u001b[0m\u001b[0msplit\u001b[0m\u001b[0;34m(\u001b[0m\u001b[0;34m': '\u001b[0m\u001b[0;34m,\u001b[0m \u001b[0;36m1\u001b[0m\u001b[0;34m)\u001b[0m\u001b[0;34m[\u001b[0m\u001b[0;36m1\u001b[0m\u001b[0;34m]\u001b[0m\u001b[0;34m,\u001b[0m \u001b[0mstackTrace\u001b[0m\u001b[0;34m)\u001b[0m\u001b[0;34m\u001b[0m\u001b[0;34m\u001b[0m\u001b[0m\n\u001b[1;32m     78\u001b[0m             \u001b[0;32mif\u001b[0m \u001b[0ms\u001b[0m\u001b[0;34m.\u001b[0m\u001b[0mstartswith\u001b[0m\u001b[0;34m(\u001b[0m\u001b[0;34m'java.lang.IllegalArgumentException: '\u001b[0m\u001b[0;34m)\u001b[0m\u001b[0;34m:\u001b[0m\u001b[0;34m\u001b[0m\u001b[0;34m\u001b[0m\u001b[0m\n\u001b[0;32m---> 79\u001b[0;31m                 \u001b[0;32mraise\u001b[0m \u001b[0mIllegalArgumentException\u001b[0m\u001b[0;34m(\u001b[0m\u001b[0ms\u001b[0m\u001b[0;34m.\u001b[0m\u001b[0msplit\u001b[0m\u001b[0;34m(\u001b[0m\u001b[0;34m': '\u001b[0m\u001b[0;34m,\u001b[0m \u001b[0;36m1\u001b[0m\u001b[0;34m)\u001b[0m\u001b[0;34m[\u001b[0m\u001b[0;36m1\u001b[0m\u001b[0;34m]\u001b[0m\u001b[0;34m,\u001b[0m \u001b[0mstackTrace\u001b[0m\u001b[0;34m)\u001b[0m\u001b[0;34m\u001b[0m\u001b[0;34m\u001b[0m\u001b[0m\n\u001b[0m\u001b[1;32m     80\u001b[0m             \u001b[0;32mraise\u001b[0m\u001b[0;34m\u001b[0m\u001b[0;34m\u001b[0m\u001b[0m\n\u001b[1;32m     81\u001b[0m     \u001b[0;32mreturn\u001b[0m \u001b[0mdeco\u001b[0m\u001b[0;34m\u001b[0m\u001b[0;34m\u001b[0m\u001b[0m\n",
      "\u001b[0;31mIllegalArgumentException\u001b[0m: 'Unsupported class file major version 56'"
     ]
    }
   ],
   "source": [
    "objectDF.count()"
   ]
  },
  {
   "cell_type": "code",
   "execution_count": 28,
   "metadata": {},
   "outputs": [
    {
     "name": "stdout",
     "output_type": "stream",
     "text": [
      "Query started at 04:07:16 AM PDT; Query executed in 0.00 m"
     ]
    },
    {
     "data": {
      "text/html": [
       "<div>\n",
       "<style scoped>\n",
       "    .dataframe tbody tr th:only-of-type {\n",
       "        vertical-align: middle;\n",
       "    }\n",
       "\n",
       "    .dataframe tbody tr th {\n",
       "        vertical-align: top;\n",
       "    }\n",
       "\n",
       "    .dataframe thead th {\n",
       "        text-align: right;\n",
       "    }\n",
       "</style>\n",
       "<table border=\"1\" class=\"dataframe\">\n",
       "  <thead>\n",
       "    <tr style=\"text-align: right;\">\n",
       "      <th></th>\n",
       "      <th>status</th>\n",
       "      <th>location</th>\n",
       "      <th>taskType</th>\n",
       "      <th>duration</th>\n",
       "      <th>eventDate</th>\n",
       "      <th>effectiveThroughput</th>\n",
       "      <th>dataTransferred</th>\n",
       "      <th>objectName</th>\n",
       "      <th>objectType</th>\n",
       "    </tr>\n",
       "  </thead>\n",
       "  <tbody>\n",
       "    <tr>\n",
       "      <th>0</th>\n",
       "      <td>Success</td>\n",
       "      <td>em1-marcfern-w1.rubrikdemo.com\\MSSQLSERVER</td>\n",
       "      <td>Backup</td>\n",
       "      <td>1 min 50 secs</td>\n",
       "      <td>2019-08-04T05:54:43.639Z</td>\n",
       "      <td>None</td>\n",
       "      <td>84480.0</td>\n",
       "      <td>DBTest072</td>\n",
       "      <td>Mssql</td>\n",
       "    </tr>\n",
       "    <tr>\n",
       "      <th>1</th>\n",
       "      <td>Success</td>\n",
       "      <td>em1-marcfern-w1.rubrikdemo.com\\MSSQLSERVER</td>\n",
       "      <td>Backup</td>\n",
       "      <td>39 secs</td>\n",
       "      <td>2019-08-04T05:54:14.918Z</td>\n",
       "      <td>None</td>\n",
       "      <td>84480.0</td>\n",
       "      <td>DBTest086</td>\n",
       "      <td>Mssql</td>\n",
       "    </tr>\n",
       "    <tr>\n",
       "      <th>2</th>\n",
       "      <td>Active</td>\n",
       "      <td>em1-marcfern-w1.rubrikdemo.com\\MSSQLSERVER</td>\n",
       "      <td>Backup</td>\n",
       "      <td>12 secs</td>\n",
       "      <td>2019-08-04T05:55:29.662Z</td>\n",
       "      <td>None</td>\n",
       "      <td>NaN</td>\n",
       "      <td>DBTest071</td>\n",
       "      <td>Mssql</td>\n",
       "    </tr>\n",
       "    <tr>\n",
       "      <th>3</th>\n",
       "      <td>Scheduled</td>\n",
       "      <td>emea2-vcsa.rubrikdemo.com</td>\n",
       "      <td>Replication</td>\n",
       "      <td>None</td>\n",
       "      <td>2019-08-04T05:52:51.070Z</td>\n",
       "      <td>None</td>\n",
       "      <td>NaN</td>\n",
       "      <td>em2-rynaspie-l1</td>\n",
       "      <td>VmwareVm</td>\n",
       "    </tr>\n",
       "    <tr>\n",
       "      <th>4</th>\n",
       "      <td>Success</td>\n",
       "      <td>em1-marcfern-w1.rubrikdemo.com\\MSSQLSERVER</td>\n",
       "      <td>Backup</td>\n",
       "      <td>1 min 28 secs</td>\n",
       "      <td>2019-08-04T05:55:08.859Z</td>\n",
       "      <td>None</td>\n",
       "      <td>84480.0</td>\n",
       "      <td>DBTest047</td>\n",
       "      <td>Mssql</td>\n",
       "    </tr>\n",
       "  </tbody>\n",
       "</table>\n",
       "</div>"
      ],
      "text/plain": [
       "      status                                    location     taskType  \\\n",
       "0    Success  em1-marcfern-w1.rubrikdemo.com\\MSSQLSERVER       Backup   \n",
       "1    Success  em1-marcfern-w1.rubrikdemo.com\\MSSQLSERVER       Backup   \n",
       "2     Active  em1-marcfern-w1.rubrikdemo.com\\MSSQLSERVER       Backup   \n",
       "3  Scheduled                   emea2-vcsa.rubrikdemo.com  Replication   \n",
       "4    Success  em1-marcfern-w1.rubrikdemo.com\\MSSQLSERVER       Backup   \n",
       "\n",
       "        duration                 eventDate effectiveThroughput  \\\n",
       "0  1 min 50 secs  2019-08-04T05:54:43.639Z                None   \n",
       "1        39 secs  2019-08-04T05:54:14.918Z                None   \n",
       "2        12 secs  2019-08-04T05:55:29.662Z                None   \n",
       "3           None  2019-08-04T05:52:51.070Z                None   \n",
       "4  1 min 28 secs  2019-08-04T05:55:08.859Z                None   \n",
       "\n",
       "   dataTransferred       objectName objectType  \n",
       "0          84480.0        DBTest072      Mssql  \n",
       "1          84480.0        DBTest086      Mssql  \n",
       "2              NaN        DBTest071      Mssql  \n",
       "3              NaN  em2-rynaspie-l1   VmwareVm  \n",
       "4          84480.0        DBTest047      Mssql  "
      ]
     },
     "execution_count": 28,
     "metadata": {},
     "output_type": "execute_result"
    }
   ],
   "source": [
    "%%read_sql df_result\n",
    "select * from table limit 5"
   ]
  },
  {
   "cell_type": "code",
   "execution_count": 12,
   "metadata": {},
   "outputs": [
    {
     "name": "stdout",
     "output_type": "stream",
     "text": [
      "Query started at 03:49:46 AM PDT; Query executed in 0.01 m"
     ]
    },
    {
     "data": {
      "text/html": [
       "<div>\n",
       "<style scoped>\n",
       "    .dataframe tbody tr th:only-of-type {\n",
       "        vertical-align: middle;\n",
       "    }\n",
       "\n",
       "    .dataframe tbody tr th {\n",
       "        vertical-align: top;\n",
       "    }\n",
       "\n",
       "    .dataframe thead th {\n",
       "        text-align: right;\n",
       "    }\n",
       "</style>\n",
       "<table border=\"1\" class=\"dataframe\">\n",
       "  <thead>\n",
       "    <tr style=\"text-align: right;\">\n",
       "      <th></th>\n",
       "      <th>status</th>\n",
       "      <th>location</th>\n",
       "      <th>taskType</th>\n",
       "      <th>duration</th>\n",
       "      <th>eventDate</th>\n",
       "      <th>effectiveThroughput</th>\n",
       "      <th>dataTransferred</th>\n",
       "      <th>objectName</th>\n",
       "      <th>objectType</th>\n",
       "    </tr>\n",
       "  </thead>\n",
       "  <tbody>\n",
       "    <tr>\n",
       "      <th>0</th>\n",
       "      <td>Scheduled</td>\n",
       "      <td>emea2-vcsa.rubrikdemo.com</td>\n",
       "      <td>Replication</td>\n",
       "      <td>None</td>\n",
       "      <td>2019-08-04T05:52:51.070Z</td>\n",
       "      <td>NaN</td>\n",
       "      <td>NaN</td>\n",
       "      <td>em2-rynaspie-l1</td>\n",
       "      <td>VmwareVm</td>\n",
       "    </tr>\n",
       "    <tr>\n",
       "      <th>1</th>\n",
       "      <td>Success</td>\n",
       "      <td>emea2-vcsa.rubrikdemo.com</td>\n",
       "      <td>Replication</td>\n",
       "      <td>1 min 14 secs</td>\n",
       "      <td>2019-08-04T05:52:51.705Z</td>\n",
       "      <td>7719520.0</td>\n",
       "      <td>205717504.0</td>\n",
       "      <td>em2-rynaspie-l1</td>\n",
       "      <td>VmwareVm</td>\n",
       "    </tr>\n",
       "  </tbody>\n",
       "</table>\n",
       "</div>"
      ],
      "text/plain": [
       "      status                   location     taskType       duration  \\\n",
       "0  Scheduled  emea2-vcsa.rubrikdemo.com  Replication           None   \n",
       "1    Success  emea2-vcsa.rubrikdemo.com  Replication  1 min 14 secs   \n",
       "\n",
       "                  eventDate  effectiveThroughput  dataTransferred  \\\n",
       "0  2019-08-04T05:52:51.070Z                  NaN              NaN   \n",
       "1  2019-08-04T05:52:51.705Z            7719520.0      205717504.0   \n",
       "\n",
       "        objectName objectType  \n",
       "0  em2-rynaspie-l1   VmwareVm  \n",
       "1  em2-rynaspie-l1   VmwareVm  "
      ]
     },
     "execution_count": 12,
     "metadata": {},
     "output_type": "execute_result"
    }
   ],
   "source": [
    "%%read_sql df_result\n",
    "select * from table where objectName='em2-rynaspie-l1'"
   ]
  },
  {
   "cell_type": "code",
   "execution_count": 205,
   "metadata": {},
   "outputs": [
    {
     "name": "stdout",
     "output_type": "stream",
     "text": [
      "root\n",
      " |-- status: string (nullable = true)\n",
      " |-- location: string (nullable = true)\n",
      " |-- taskType: string (nullable = true)\n",
      " |-- duration: string (nullable = true)\n",
      " |-- eventDate: string (nullable = true)\n",
      " |-- effectiveThroughput: long (nullable = true)\n",
      " |-- dataTransferred: long (nullable = true)\n",
      " |-- objectName: string (nullable = true)\n",
      " |-- objectType: string (nullable = true)\n",
      " |-- minute: string (nullable = true)\n",
      " |-- secs: string (nullable = true)\n",
      "\n"
     ]
    }
   ],
   "source": [
    "tempDF = objectDF.withColumn('minute', split(objectDF['duration'], ' ')[0].alias('minute'))\n",
    "tempDF = tempDF.withColumn('secs', split(objectDF['duration'], ' ')[2].alias('secs'))\n",
    "tempDF.printSchema()"
   ]
  },
  {
   "cell_type": "code",
   "execution_count": 206,
   "metadata": {},
   "outputs": [],
   "source": [
    "newDF = tempDF.withColumn(\"new_duration\", \n",
    "                   when((col('secs').isNull()), col('minute').cast(IntegerType()))\n",
    "                  .when((col('secs').isNotNull()), ((col('minute')*60)+col('secs').cast(IntegerType()))))"
   ]
  },
  {
   "cell_type": "code",
   "execution_count": 185,
   "metadata": {},
   "outputs": [],
   "source": [
    "countDF = objectDF.groupBy('status').count()\n",
    "countDF_PD = countDF.toPandas()"
   ]
  },
  {
   "cell_type": "code",
   "execution_count": 186,
   "metadata": {},
   "outputs": [
    {
     "data": {
      "text/html": [
       "<div>\n",
       "<style scoped>\n",
       "    .dataframe tbody tr th:only-of-type {\n",
       "        vertical-align: middle;\n",
       "    }\n",
       "\n",
       "    .dataframe tbody tr th {\n",
       "        vertical-align: top;\n",
       "    }\n",
       "\n",
       "    .dataframe thead th {\n",
       "        text-align: right;\n",
       "    }\n",
       "</style>\n",
       "<table border=\"1\" class=\"dataframe\">\n",
       "  <thead>\n",
       "    <tr style=\"text-align: right;\">\n",
       "      <th></th>\n",
       "      <th>status</th>\n",
       "      <th>count</th>\n",
       "    </tr>\n",
       "  </thead>\n",
       "  <tbody>\n",
       "    <tr>\n",
       "      <th>0</th>\n",
       "      <td>Success</td>\n",
       "      <td>1427</td>\n",
       "    </tr>\n",
       "    <tr>\n",
       "      <th>1</th>\n",
       "      <td>Active</td>\n",
       "      <td>30</td>\n",
       "    </tr>\n",
       "    <tr>\n",
       "      <th>2</th>\n",
       "      <td>Failure</td>\n",
       "      <td>18</td>\n",
       "    </tr>\n",
       "    <tr>\n",
       "      <th>3</th>\n",
       "      <td>Canceled</td>\n",
       "      <td>2</td>\n",
       "    </tr>\n",
       "    <tr>\n",
       "      <th>4</th>\n",
       "      <td>Scheduled</td>\n",
       "      <td>14</td>\n",
       "    </tr>\n",
       "  </tbody>\n",
       "</table>\n",
       "</div>"
      ],
      "text/plain": [
       "      status  count\n",
       "0    Success   1427\n",
       "1     Active     30\n",
       "2    Failure     18\n",
       "3   Canceled      2\n",
       "4  Scheduled     14"
      ]
     },
     "execution_count": 186,
     "metadata": {},
     "output_type": "execute_result"
    }
   ],
   "source": [
    "countDF_PD.head()"
   ]
  },
  {
   "cell_type": "code",
   "execution_count": 269,
   "metadata": {},
   "outputs": [
    {
     "data": {
      "text/plain": [
       "<matplotlib.axes._subplots.AxesSubplot at 0x1236f2da0>"
      ]
     },
     "execution_count": 269,
     "metadata": {},
     "output_type": "execute_result"
    },
    {
     "data": {
      "image/png": "[encoded data removed]",
      "text/plain": [
       "<Figure size 864x576 with 1 Axes>"
      ]
     },
     "metadata": {
      "needs_background": "light"
     },
     "output_type": "display_data"
    }
   ],
   "source": [
    "countDF_PD.plot.bar(x='status')"
   ]
  },
  {
   "cell_type": "code",
   "execution_count": 261,
   "metadata": {},
   "outputs": [],
   "source": [
    "durationDF = newDF.filter(col('new_duration').isNotNull())\n",
    "sumDF = durationDF.groupBy('objectType').sum()\n",
    "sumPD = sumDF.toPandas()\n",
    "durationDF_PD = durationDF.toPandas()\n",
    "pandaDF = durationDF_PD.groupby(['objectType']).sum()"
   ]
  },
  {
   "cell_type": "code",
   "execution_count": 265,
   "metadata": {},
   "outputs": [
    {
     "name": "stdout",
     "output_type": "stream",
     "text": [
      "+-------------+------------------------+--------------------+-----------------+\n",
      "|   objectType|sum(effectiveThroughput)|sum(dataTransferred)|sum(new_duration)|\n",
      "+-------------+------------------------+--------------------+-----------------+\n",
      "|  VolumeGroup|                 2443737|          3884800937|           3206.0|\n",
      "|     OracleDb|                 6241525|           222566400|           4334.0|\n",
      "|     HypervVm|                    null|                null|          19712.0|\n",
      "|        Mssql|                61215470|           787871232|          50373.0|\n",
      "|     VmwareVm|                48560971|         22153363122|           8111.0|\n",
      "|ManagedVolume|                    null|                null|            235.0|\n",
      "| ShareFileset|                    null|                null|             70.0|\n",
      "+-------------+------------------------+--------------------+-----------------+\n",
      "\n"
     ]
    }
   ],
   "source": [
    "sumDF.show()"
   ]
  },
  {
   "cell_type": "code",
   "execution_count": 252,
   "metadata": {},
   "outputs": [
    {
     "data": {
      "text/html": [
       "<div>\n",
       "<style scoped>\n",
       "    .dataframe tbody tr th:only-of-type {\n",
       "        vertical-align: middle;\n",
       "    }\n",
       "\n",
       "    .dataframe tbody tr th {\n",
       "        vertical-align: top;\n",
       "    }\n",
       "\n",
       "    .dataframe thead th {\n",
       "        text-align: right;\n",
       "    }\n",
       "</style>\n",
       "<table border=\"1\" class=\"dataframe\">\n",
       "  <thead>\n",
       "    <tr style=\"text-align: right;\">\n",
       "      <th></th>\n",
       "      <th>effectiveThroughput</th>\n",
       "      <th>dataTransferred</th>\n",
       "      <th>new_duration</th>\n",
       "    </tr>\n",
       "    <tr>\n",
       "      <th>objectType</th>\n",
       "      <th></th>\n",
       "      <th></th>\n",
       "      <th></th>\n",
       "    </tr>\n",
       "  </thead>\n",
       "  <tbody>\n",
       "    <tr>\n",
       "      <th>HypervVm</th>\n",
       "      <td>0.0</td>\n",
       "      <td>0.000000e+00</td>\n",
       "      <td>19712.0</td>\n",
       "    </tr>\n",
       "    <tr>\n",
       "      <th>ManagedVolume</th>\n",
       "      <td>0.0</td>\n",
       "      <td>0.000000e+00</td>\n",
       "      <td>235.0</td>\n",
       "    </tr>\n",
       "    <tr>\n",
       "      <th>Mssql</th>\n",
       "      <td>61215470.0</td>\n",
       "      <td>7.878712e+08</td>\n",
       "      <td>50373.0</td>\n",
       "    </tr>\n",
       "    <tr>\n",
       "      <th>OracleDb</th>\n",
       "      <td>6241525.0</td>\n",
       "      <td>2.225664e+08</td>\n",
       "      <td>4334.0</td>\n",
       "    </tr>\n",
       "    <tr>\n",
       "      <th>ShareFileset</th>\n",
       "      <td>0.0</td>\n",
       "      <td>0.000000e+00</td>\n",
       "      <td>70.0</td>\n",
       "    </tr>\n",
       "    <tr>\n",
       "      <th>VmwareVm</th>\n",
       "      <td>48560971.0</td>\n",
       "      <td>2.215336e+10</td>\n",
       "      <td>8111.0</td>\n",
       "    </tr>\n",
       "    <tr>\n",
       "      <th>VolumeGroup</th>\n",
       "      <td>2443737.0</td>\n",
       "      <td>3.884801e+09</td>\n",
       "      <td>3206.0</td>\n",
       "    </tr>\n",
       "  </tbody>\n",
       "</table>\n",
       "</div>"
      ],
      "text/plain": [
       "               effectiveThroughput  dataTransferred  new_duration\n",
       "objectType                                                       \n",
       "HypervVm                       0.0     0.000000e+00       19712.0\n",
       "ManagedVolume                  0.0     0.000000e+00         235.0\n",
       "Mssql                   61215470.0     7.878712e+08       50373.0\n",
       "OracleDb                 6241525.0     2.225664e+08        4334.0\n",
       "ShareFileset                   0.0     0.000000e+00          70.0\n",
       "VmwareVm                48560971.0     2.215336e+10        8111.0\n",
       "VolumeGroup              2443737.0     3.884801e+09        3206.0"
      ]
     },
     "execution_count": 252,
     "metadata": {},
     "output_type": "execute_result"
    }
   ],
   "source": [
    "pandaDF.head(20)"
   ]
  },
  {
   "cell_type": "code",
   "execution_count": 268,
   "metadata": {},
   "outputs": [
    {
     "data": {
      "text/plain": [
       "array([<matplotlib.axes._subplots.AxesSubplot object at 0x12334e5f8>,\n",
       "       <matplotlib.axes._subplots.AxesSubplot object at 0x1233ff278>,\n",
       "       <matplotlib.axes._subplots.AxesSubplot object at 0x12342b240>],\n",
       "      dtype=object)"
      ]
     },
     "execution_count": 268,
     "metadata": {},
     "output_type": "execute_result"
    },
    {
     "data": {
      "image/png": "[encoded data removed]",
      "text/plain": [
       "<Figure size 864x576 with 3 Axes>"
      ]
     },
     "metadata": {
      "needs_background": "light"
     },
     "output_type": "display_data"
    }
   ],
   "source": [
    "pandaDF.plot.bar(subplots=True)"
   ]
  },
  {
   "cell_type": "code",
   "execution_count": null,
   "metadata": {},
   "outputs": [],
   "source": []
  }
 ],
 "metadata": {
  "kernelspec": {
   "display_name": "Python 3",
   "language": "python",
   "name": "python3"
  },
  "language_info": {
   "codemirror_mode": {
    "name": "ipython",
    "version": 3
   },
   "file_extension": ".py",
   "mimetype": "text/x-python",
   "name": "python",
   "nbconvert_exporter": "python",
   "pygments_lexer": "ipython3",
   "version": "3.6.8"
  }
 },
 "nbformat": 4,
 "nbformat_minor": 4
}
