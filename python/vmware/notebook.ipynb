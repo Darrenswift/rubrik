{
 "nbformat": 4,
 "nbformat_minor": 2,
 "metadata": {
  "language_info": {
   "name": "python",
   "codemirror_mode": {
    "name": "ipython",
    "version": 3
   },
   "version": "3.6.8-final"
  },
  "orig_nbformat": 2,
  "file_extension": ".py",
  "mimetype": "text/x-python",
  "name": "python",
  "npconvert_exporter": "python",
  "pygments_lexer": "ipython3",
  "version": 3,
  "kernelspec": {
   "name": "python36864bit368pyenv971f4e6207f0487f80c111cef9eb64a5",
   "display_name": "Python 3.6.8 64-bit ('3.6.8': pyenv)"
  }
 },
 "cells": [
  {
   "cell_type": "code",
   "execution_count": null,
   "metadata": {},
   "outputs": [],
   "source": [
    "import rubrik_cdm\n",
    "import urllib3\n",
    "\n",
    "urllib3.disable_warnings()\n",
    "\n",
    "rubrik = rubrik_cdm.Connect(enable_logging=True)"
   ]
  },
  {
   "cell_type": "code",
   "execution_count": null,
   "metadata": {},
   "outputs": [],
   "source": [
    "data_management = dir(rubrik_cdm.data_management.Data_Management)\n",
    "print([module for module in data_management if not module.startswith('_')])\n",
    "\n",
    "cluster = dir(rubrik_cdm.cluster.Cluster)\n",
    "print([module for module in cluster if not module.startswith('_')])\n",
    "\n",
    "physical = dir(rubrik_cdm.physical.Physical)\n",
    "print([module for module in physical if not module.startswith('_')])"
   ]
  },
  {
   "cell_type": "code",
   "execution_count": null,
   "metadata": {},
   "outputs": [],
   "source": [
    "print(rubrik.cluster_version())"
   ]
  },
  {
   "cell_type": "code",
   "execution_count": null,
   "metadata": {},
   "outputs": [],
   "source": [
    "get_vsphere_vm = rubrik.get_vsphere_vm()\n",
    "for item in get_vsphere_vm['data']:\n",
    "    print(f\"{item['name']} SLA is {item['slaAssignment']}\")"
   ]
  },
  {
   "cell_type": "code",
   "execution_count": null,
   "metadata": {},
   "outputs": [],
   "source": [
    "for item in get_vsphere_vm['data']:\n",
    "    if item['effectiveSlaDomainName'] == 'Unprotected':\n",
    "        print(item['name'])"
   ]
  },
  {
   "cell_type": "code",
   "execution_count": null,
   "metadata": {},
   "outputs": [],
   "source": [
    "print(rubrik.on_demand_snapshot('em1-promowol-l1', 'vmware'))"
   ]
  },
  {
   "cell_type": "code",
   "execution_count": null,
   "metadata": {},
   "outputs": [],
   "source": [
    "print(rubrik.assign_sla(object_name = 'em1-promowol-l1', sla_name = '4hr-30d-AWS', object_type = 'vmware'))"
   ]
  },
  {
   "cell_type": "code",
   "execution_count": null,
   "metadata": {},
   "outputs": [],
   "source": [
    "get_vm_sla = rubrik.get_sla_objects('4hr-30d-AWS', 'vmware')\n",
    "for key, value in get_vm_sla.items():\n",
    "    print(key, '->', value)"
   ]
  },
  {
   "cell_type": "code",
   "execution_count": null,
   "metadata": {},
   "outputs": [],
   "source": [
    "print(rubrik.vsphere_live_mount('em1-promowol-l1'))"
   ]
  },
  {
   "cell_type": "code",
   "execution_count": null,
   "metadata": {},
   "outputs": [],
   "source": [
    "print(rubrik.get_vsphere_live_mount_names('em1-promowol-l1'))"
   ]
  },
  {
   "cell_type": "code",
   "execution_count": null,
   "metadata": {},
   "outputs": [],
   "source": [
    "print(rubrik.vsphere_live_unmount('em1-promowol-l1 01-09 15:23 0'))"
   ]
  },
  {
   "cell_type": "code",
   "execution_count": null,
   "metadata": {},
   "outputs": [],
   "source": []
  }
 ]
}