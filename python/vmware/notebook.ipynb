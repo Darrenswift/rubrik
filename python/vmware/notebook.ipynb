{
 "nbformat": 4,
 "nbformat_minor": 2,
 "metadata": {
  "language_info": {
   "name": "python",
   "codemirror_mode": {
    "name": "ipython",
    "version": 3
   },
   "version": "3.6.8-final"
  },
  "orig_nbformat": 2,
  "file_extension": ".py",
  "mimetype": "text/x-python",
  "name": "python",
  "npconvert_exporter": "python",
  "pygments_lexer": "ipython3",
  "version": 3,
  "kernelspec": {
   "name": "python36864bit368pyenv971f4e6207f0487f80c111cef9eb64a5",
   "display_name": "Python 3.6.8 64-bit ('3.6.8': pyenv)"
  }
 },
 "cells": [
  {
   "cell_type": "markdown",
   "execution_count": null,
   "metadata": {},
   "outputs": [],
   "source": [
    "## Rubrik Python SDK\n",
    "Working with the Python SDK to retieve objects protected by an `sla`, search for `Unprotected` objects, take an `on-demand snapshot`, `live mount` and `unmount` a virtual machine."
   ]
  },
  {
   "cell_type": "markdown",
   "execution_count": null,
   "metadata": {},
   "outputs": [],
   "source": [
    "### Import the `rubrik_cdm` library and create required python variables"
   ]
  },
  {
   "cell_type": "code",
   "execution_count": null,
   "metadata": {},
   "outputs": [],
   "source": [
    "import rubrik_cdm\n",
    "import urllib3\n",
    "urllib3.disable_warnings()\n",
    "\n",
    "rubrik = rubrik_cdm.Connect(enable_logging=True)\n",
    "vm_name = 'em1-promowol-l1'\n",
    "object_name = vm_name\n",
    "object_type = 'vmware'\n",
    "sla = '4hr-30d-AWS'\n",
    "sla_name = sla"
   ]
  },
  {
   "cell_type": "markdown",
   "execution_count": null,
   "metadata": {},
   "outputs": [],
   "source": [
    "### Get a list of the available `methods()`"
   ]
  },
  {
   "cell_type": "code",
   "execution_count": null,
   "metadata": {},
   "outputs": [],
   "source": [
    "data_management = dir(rubrik_cdm.data_management.Data_Management)\n",
    "print([module for module in data_management if not module.startswith('_')])\n",
    "\n",
    "cluster = dir(rubrik_cdm.cluster.Cluster)\n",
    "print([module for module in cluster if not module.startswith('_')])\n",
    "\n",
    "physical = dir(rubrik_cdm.physical.Physical)\n",
    "print([module for module in physical if not module.startswith('_')])"
   ]
  },
  {
   "cell_type": "markdown",
   "execution_count": null,
   "metadata": {},
   "outputs": [],
   "source": [
    "### Print out the current `cluster` version"
   ]
  },
  {
   "cell_type": "code",
   "execution_count": null,
   "metadata": {},
   "outputs": [],
   "source": [
    "print(rubrik.cluster_version())"
   ]
  },
  {
   "cell_type": "markdown",
   "execution_count": null,
   "metadata": {},
   "outputs": [],
   "source": [
    "### Get the SLA Assignment for each Virtual Machine"
   ]
  },
  {
   "cell_type": "code",
   "execution_count": null,
   "metadata": {},
   "outputs": [],
   "source": [
    "get_vsphere_vm = rubrik.get_vsphere_vm()\n",
    "for item in get_vsphere_vm['data']:\n",
    "    print(f\"{item['name']} SLA is {item['slaAssignment']}\")"
   ]
  },
  {
   "cell_type": "markdown",
   "execution_count": null,
   "metadata": {},
   "outputs": [],
   "source": [
    "### Print out a list of all `Unprotected` Virtual Machine"
   ]
  },
  {
   "cell_type": "code",
   "execution_count": null,
   "metadata": {},
   "outputs": [],
   "source": [
    "for item in get_vsphere_vm['data']:\n",
    "    if item['effectiveSlaDomainName'] == 'Unprotected':\n",
    "        print(item['name'])"
   ]
  },
  {
   "cell_type": "markdown",
   "execution_count": 24,
   "metadata": {},
   "outputs": [],
   "source": [
    "### Take an `OnDemand Snapshot` of a Virtual Machine"
   ]
  },
  {
   "cell_type": "code",
   "execution_count": null,
   "metadata": {},
   "outputs": [],
   "source": [
    "print(rubrik.on_demand_snapshot(object_name, object_type))"
   ]
  },
  {
   "cell_type": "markdown",
   "execution_count": null,
   "metadata": {},
   "outputs": [],
   "source": [
    "### Assign an `SLA` to a Virtual Machine"
   ]
  },
  {
   "cell_type": "code",
   "execution_count": null,
   "metadata": {},
   "outputs": [],
   "source": [
    "print(rubrik.assign_sla(object_name, sla_name, object_type))"
   ]
  },
  {
   "cell_type": "markdown",
   "execution_count": null,
   "metadata": {},
   "outputs": [],
   "source": [
    "### Print a list of the Virtual Machines protected by an `SLA`"
   ]
  },
  {
   "cell_type": "code",
   "execution_count": null,
   "metadata": {},
   "outputs": [],
   "source": [
    "get_vm_sla = rubrik.get_sla_objects(sla, object_type)\n",
    "for key, value in get_vm_sla.items():\n",
    "    print(key, '->', value)"
   ]
  },
  {
   "cell_type": "markdown",
   "execution_count": null,
   "metadata": {},
   "outputs": [],
   "source": [
    "### Live Mount a virtual Machine"
   ]
  },
  {
   "cell_type": "code",
   "execution_count": null,
   "metadata": {},
   "outputs": [],
   "source": [
    "print(rubrik.vsphere_live_mount(vm_name))"
   ]
  },
  {
   "cell_type": "markdown",
   "execution_count": null,
   "metadata": {},
   "outputs": [],
   "source": [
    "### Get a list of the Live Mounts for a Virtual Machine"
   ]
  },
  {
   "cell_type": "code",
   "execution_count": null,
   "metadata": {},
   "outputs": [],
   "source": [
    "live_mounts = rubrik.get_vsphere_live_mount_names(vm_name)\n",
    "print(live_mounts)"
   ]
  },
  {
   "cell_type": "markdown",
   "execution_count": 25,
   "metadata": {},
   "outputs": [],
   "source": [
    "### Unmount a Virtual Machine"
   ]
  },
  {
   "cell_type": "code",
   "execution_count": null,
   "metadata": {},
   "outputs": [],
   "source": [
    "for item in live_mounts:\n",
    "    print(rubrik.vsphere_live_unmount(item))"
   ]
  }
 ]
}