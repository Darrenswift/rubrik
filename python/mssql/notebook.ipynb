{
 "nbformat": 4,
 "nbformat_minor": 2,
 "metadata": {
  "language_info": {
   "name": "python",
   "codemirror_mode": {
    "name": "ipython",
    "version": 3
   },
   "version": "3.6.8-final"
  },
  "orig_nbformat": 2,
  "file_extension": ".py",
  "mimetype": "text/x-python",
  "name": "python",
  "npconvert_exporter": "python",
  "pygments_lexer": "ipython3",
  "version": 3,
  "kernelspec": {
   "name": "python36864bit368pyenv971f4e6207f0487f80c111cef9eb64a5",
   "display_name": "Python 3.6.8 64-bit ('3.6.8': pyenv)"
  }
 },
 "cells": [
  {
   "source": [
    "import rubrik_cdm\n",
    "import urllib3\n",
    "urllib3.disable_warnings()\n",
    "\n",
    "rubrik = rubrik_cdm.Connect(enable_logging=True)\n",
    "db_name = 'em1-promowol-l1'\n",
    "object_name = db_name\n",
    "object_type = 'mssql'\n",
    "sla = '4hr-30d-AWS'\n",
    "sla_name = sla"
   ],
   "cell_type": "code",
   "outputs": [
    {
     "output_type": "stream",
     "name": "stderr",
     "text": "[2020-01-09 17:56:01,911] [DEBUG] -- Node IP: emea1-rbk01.rubrikdemo.com\n[2020-01-09 17:56:01,921] [DEBUG] -- Username: promise.owolabi@rubrikdemo.com\n[2020-01-09 17:56:01,953] [DEBUG] -- Password: ******\n"
    }
   ],
   "metadata": {},
   "execution_count": 2
  },
  {
   "cell_type": "code",
   "execution_count": null,
   "metadata": {},
   "outputs": [],
   "source": []
  }
 ]
}